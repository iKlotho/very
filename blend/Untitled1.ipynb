{
 "cells": [
  {
   "cell_type": "code",
   "execution_count": 4,
   "metadata": {},
   "outputs": [],
   "source": [
    "import psycopg2\n",
    "conn = psycopg2.connect('host=212.58.23.112 dbname=PlatformA user=umut_ro password=umut*123')\n",
    "curr = conn.cursor()\n"
   ]
  },
  {
   "cell_type": "code",
   "execution_count": 56,
   "metadata": {},
   "outputs": [],
   "source": [
    "curr.execute(\"rollback\")"
   ]
  },
  {
   "cell_type": "code",
   "execution_count": 57,
   "metadata": {},
   "outputs": [],
   "source": [
    "curr.execute(\"select COUNT(*) FROM public.tcdr_summary\")"
   ]
  },
  {
   "cell_type": "code",
   "execution_count": 58,
   "metadata": {},
   "outputs": [
    {
     "data": {
      "text/plain": [
       "[(2216744,)]"
      ]
     },
     "execution_count": 58,
     "metadata": {},
     "output_type": "execute_result"
    }
   ],
   "source": [
    "curr.fetchall()"
   ]
  },
  {
   "cell_type": "code",
   "execution_count": 59,
   "metadata": {},
   "outputs": [],
   "source": [
    "curr.execute(\"select COUNT(*) FROM public.tcdr_connection_summary\")"
   ]
  },
  {
   "cell_type": "code",
   "execution_count": 60,
   "metadata": {},
   "outputs": [
    {
     "data": {
      "text/plain": [
       "[(1974901,)]"
      ]
     },
     "execution_count": 60,
     "metadata": {},
     "output_type": "execute_result"
    }
   ],
   "source": [
    "curr.fetchall()"
   ]
  },
  {
   "cell_type": "code",
   "execution_count": 13,
   "metadata": {},
   "outputs": [],
   "source": [
    "curr.execute(\"select * from public.tcdr_summary limit 0\")"
   ]
  },
  {
   "cell_type": "code",
   "execution_count": 15,
   "metadata": {},
   "outputs": [
    {
     "data": {
      "text/plain": [
       "(Column(name='i_summary', type_code=20, display_size=None, internal_size=8, precision=None, scale=None, null_ok=None),\n",
       " Column(name='i_account', type_code=20, display_size=None, internal_size=8, precision=None, scale=None, null_ok=None),\n",
       " Column(name='summary_date', type_code=1082, display_size=None, internal_size=4, precision=None, scale=None, null_ok=None),\n",
       " Column(name='destination', type_code=1043, display_size=None, internal_size=100, precision=None, scale=None, null_ok=None),\n",
       " Column(name='total_duration', type_code=700, display_size=None, internal_size=4, precision=None, scale=None, null_ok=None),\n",
       " Column(name='total_call', type_code=23, display_size=None, internal_size=4, precision=None, scale=None, null_ok=None),\n",
       " Column(name='success_call', type_code=23, display_size=None, internal_size=4, precision=None, scale=None, null_ok=None),\n",
       " Column(name='asr', type_code=700, display_size=None, internal_size=4, precision=None, scale=None, null_ok=None),\n",
       " Column(name='acd', type_code=700, display_size=None, internal_size=4, precision=None, scale=None, null_ok=None),\n",
       " Column(name='price', type_code=700, display_size=None, internal_size=4, precision=None, scale=None, null_ok=None),\n",
       " Column(name='a_cost', type_code=700, display_size=None, internal_size=4, precision=None, scale=None, null_ok=None),\n",
       " Column(name='a_currency', type_code=1043, display_size=None, internal_size=3, precision=None, scale=None, null_ok=None),\n",
       " Column(name='create_time', type_code=1114, display_size=None, internal_size=8, precision=None, scale=None, null_ok=None),\n",
       " Column(name='country_code', type_code=1700, display_size=None, internal_size=5, precision=5, scale=0, null_ok=None),\n",
       " Column(name='v_cost', type_code=700, display_size=None, internal_size=4, precision=None, scale=None, null_ok=None),\n",
       " Column(name='v_currency', type_code=1043, display_size=None, internal_size=3, precision=None, scale=None, null_ok=None),\n",
       " Column(name='a_cost_usd', type_code=700, display_size=None, internal_size=4, precision=None, scale=None, null_ok=None),\n",
       " Column(name='v_cost_usd', type_code=700, display_size=None, internal_size=4, precision=None, scale=None, null_ok=None),\n",
       " Column(name='i_location', type_code=23, display_size=None, internal_size=4, precision=None, scale=None, null_ok=None))"
      ]
     },
     "execution_count": 15,
     "metadata": {},
     "output_type": "execute_result"
    }
   ],
   "source": [
    "curr.description"
   ]
  },
  {
   "cell_type": "code",
   "execution_count": 17,
   "metadata": {},
   "outputs": [],
   "source": [
    "import pandas as pd \n",
    "import pandas.io.sql as sqlio"
   ]
  },
  {
   "cell_type": "code",
   "execution_count": 131,
   "metadata": {},
   "outputs": [],
   "source": [
    "sql = \"select * from public.tcdr_connection_summary where  summary_date > '2018-07-01'\"\n",
    "data = sqlio.read_sql_query(sql,conn)"
   ]
  },
  {
   "cell_type": "code",
   "execution_count": 81,
   "metadata": {},
   "outputs": [],
   "source": [
    "curr.execute(\"rollback\")"
   ]
  },
  {
   "cell_type": "code",
   "execution_count": 82,
   "metadata": {},
   "outputs": [],
   "source": [
    "curr.execute(\"select clientname from public.tclient where summary_date > '2018-07-01'\")"
   ]
  },
  {
   "cell_type": "code",
   "execution_count": 83,
   "metadata": {},
   "outputs": [
    {
     "data": {
      "text/plain": [
       "[('ASIA SUNRISE',)]"
      ]
     },
     "execution_count": 83,
     "metadata": {},
     "output_type": "execute_result"
    }
   ],
   "source": [
    "curr.fetchall()"
   ]
  },
  {
   "cell_type": "code",
   "execution_count": null,
   "metadata": {},
   "outputs": [],
   "source": [
    "data.to_csv('2aylik.csv')"
   ]
  },
  {
   "cell_type": "code",
   "execution_count": 101,
   "metadata": {},
   "outputs": [],
   "source": [
    "import matplotlib.pyplot as plt\n",
    "%matplotlib inline"
   ]
  },
  {
   "cell_type": "code",
   "execution_count": 113,
   "metadata": {},
   "outputs": [],
   "source": [
    "data['ii_vendor'] =data.i_vendor.astype('category')"
   ]
  },
  {
   "cell_type": "code",
   "execution_count": 130,
   "metadata": {},
   "outputs": [
    {
     "data": {
      "text/plain": [
       "<matplotlib.axes._subplots.AxesSubplot at 0xf29f921390>"
      ]
     },
     "execution_count": 130,
     "metadata": {},
     "output_type": "execute_result"
    },
    {
     "data": {
      "image/png": "[encoded data removed]",
      "text/plain": [
       "<Figure size 432x288 with 2 Axes>"
      ]
     },
     "metadata": {},
     "output_type": "display_data"
    }
   ],
   "source": [
    "data[data.i_vendor == 428].plot(x='total_call',y='success_call',kind='scatter',c='i_vendor',colormap=\"viridis\")"
   ]
  },
  {
   "cell_type": "code",
   "execution_count": null,
   "metadata": {},
   "outputs": [],
   "source": []
  }
 ],
 "metadata": {
  "kernelspec": {
   "display_name": "Python 3",
   "language": "python",
   "name": "python3"
  },
  "language_info": {
   "codemirror_mode": {
    "name": "ipython",
    "version": 3
   },
   "file_extension": ".py",
   "mimetype": "text/x-python",
   "name": "python",
   "nbconvert_exporter": "python",
   "pygments_lexer": "ipython3",
   "version": "3.6.6"
  }
 },
 "nbformat": 4,
 "nbformat_minor": 2
}
